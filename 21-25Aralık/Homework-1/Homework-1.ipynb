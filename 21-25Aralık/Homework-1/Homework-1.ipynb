{
 "cells": [
  {
   "cell_type": "code",
   "execution_count": 7,
   "metadata": {},
   "outputs": [
    {
     "name": "stdout",
     "output_type": "stream",
     "text": [
      "first value: meleknaz\n",
      "second value: ablak\n",
      "third value: 22\n",
      "fourth value: 0,5\n",
      "fifth value: true\n"
     ]
    }
   ],
   "source": [
    "#Take 5 values from the user and write a program that prints the values you get on the screen.\n",
    "#Print the type of values you received in this program on the screen.\n",
    "#When using print functions, do not forget to use f-string and format in your program\n",
    "value0=input(\"first value: \")\n",
    "value1=input(\"second value: \")\n",
    "value2=input(\"third value: \")\n",
    "value3=input(\"fourth value: \")\n",
    "value4=input(\"fifth value: \")"
   ]
  },
  {
   "cell_type": "code",
   "execution_count": 12,
   "metadata": {},
   "outputs": [
    {
     "name": "stdout",
     "output_type": "stream",
     "text": [
      "value of first meleknaz\n",
      "value of second ablak\n",
      "value of third 22\n",
      "value of fourth 0,5 value of fifth true\n"
     ]
    }
   ],
   "source": [
    "print(f'value of first {value0}')\n",
    "print(\"value of second {}\" .format(value1))\n",
    "print(\"value of third \" + str(value2))\n",
    "print(\"value of fourth \" + str(value3) + \" value of fifth \" + str(value4))\n",
    "#I used all three types of screen printing. Output same syntax different"
   ]
  }
 ],
 "metadata": {
  "kernelspec": {
   "display_name": "Python 3",
   "language": "python",
   "name": "python3"
  },
  "language_info": {
   "codemirror_mode": {
    "name": "ipython",
    "version": 3
   },
   "file_extension": ".py",
   "mimetype": "text/x-python",
   "name": "python",
   "nbconvert_exporter": "python",
   "pygments_lexer": "ipython3",
   "version": "3.7.6"
  }
 },
 "nbformat": 4,
 "nbformat_minor": 4
}
