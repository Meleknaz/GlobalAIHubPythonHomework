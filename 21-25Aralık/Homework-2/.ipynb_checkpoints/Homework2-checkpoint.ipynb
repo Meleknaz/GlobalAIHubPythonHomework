{
 "cells": [
  {
   "cell_type": "code",
   "execution_count": 15,
   "metadata": {},
   "outputs": [
    {
     "data": {
      "text/plain": [
       "'The user will be defined. Get the data of this user by input method. Obtain information from user as follow: First Name  Last Name Age  Date of birth(just year) Pass the user\\'s information to the list and displays the screen using the for loop. Print all user information on the screen. If he is under 18, print \"You can\\'t go out because it\\'s too dangerous\" on the screen. If he is over 18, print \"You can go out to the street.\" on the screen.'"
      ]
     },
     "execution_count": 15,
     "metadata": {},
     "output_type": "execute_result"
    }
   ],
   "source": [
    "\"\"\"The user will be defined. Get the data of this user by input method. Obtain information from user as follow:\n",
    "First Name \n",
    "Last Name\n",
    "Age\n",
    "Date of birth(just year)\n",
    "Pass the user's information to the list and displays the screen using the for loop. Print all user information on the screen.\n",
    "If he is under 18, print \"You can't go out because it's too dangerous\" on the screen.\n",
    "If he is over 18, print \"You can go out to the street.\" on the screen.\"\"\".replace(\"\\n\",\" \").replace(\"\\t\",\" \")"
   ]
  },
  {
   "cell_type": "code",
   "execution_count": 30,
   "metadata": {},
   "outputs": [
    {
     "name": "stdout",
     "output_type": "stream",
     "text": [
      "First Name : meleknaz\n",
      "Last Name: ablak\n",
      "Age: 22\n",
      "Date of birth(just year): 1998\n",
      "You can go out to the street.\n"
     ]
    }
   ],
   "source": [
    "FirstName =str(input(\"First Name : \"))\n",
    "LastName=str(input(\"Last Name: \"))\n",
    "Age =int(input(\"Age: \"))\n",
    "DateOfbirth=int(input(\"Date of birth(just year): \"))"
   ]
  },
  {
   "cell_type": "code",
   "execution_count": 34,
   "metadata": {},
   "outputs": [
    {
     "name": "stdout",
     "output_type": "stream",
     "text": [
      "m\n",
      "e\n",
      "l\n",
      "e\n",
      "k\n",
      "n\n",
      "a\n",
      "z\n"
     ]
    }
   ],
   "source": [
    "for information in FirstName:\n",
    "    print(information)"
   ]
  },
  {
   "cell_type": "code",
   "execution_count": 31,
   "metadata": {},
   "outputs": [
    {
     "name": "stdout",
     "output_type": "stream",
     "text": [
      "You can go out to the street.\n"
     ]
    }
   ],
   "source": [
    "if Age<18:\n",
    " print(\"You can't go out because it's too dangerous.\")\n",
    "if Age>18:\n",
    " print(\"You can go out to the street.\")"
   ]
  }
 ],
 "metadata": {
  "kernelspec": {
   "display_name": "Python 3",
   "language": "python",
   "name": "python3"
  },
  "language_info": {
   "codemirror_mode": {
    "name": "ipython",
    "version": 3
   },
   "file_extension": ".py",
   "mimetype": "text/x-python",
   "name": "python",
   "nbconvert_exporter": "python",
   "pygments_lexer": "ipython3",
   "version": "3.7.6"
  }
 },
 "nbformat": 4,
 "nbformat_minor": 4
}
