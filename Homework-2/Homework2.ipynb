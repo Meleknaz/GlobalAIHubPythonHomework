{
 "cells": [
  {
   "cell_type": "code",
   "execution_count": 15,
   "metadata": {},
   "outputs": [
    {
     "data": {
      "text/plain": [
       "'The user will be defined. Get the data of this user by input method. Obtain information from user as follow: First Name  Last Name Age  Date of birth(just year) Pass the user\\'s information to the list and displays the screen using the for loop. Print all user information on the screen. If he is under 18, print \"You can\\'t go out because it\\'s too dangerous\" on the screen. If he is over 18, print \"You can go out to the street.\" on the screen.'"
      ]
     },
     "execution_count": 15,
     "metadata": {},
     "output_type": "execute_result"
    }
   ],
   "source": [
    "\"\"\"The user will be defined. Get the data of this user by input method. Obtain information from user as follow:\n",
    "First Name \n",
    "Last Name\n",
    "Age\n",
    "Date of birth(just year)\n",
    "Pass the user's information to the list and displays the screen using the for loop. Print all user information on the screen.\n",
    "If he is under 18, print \"You can't go out because it's too dangerous\" on the screen.\n",
    "If he is over 18, print \"You can go out to the street.\" on the screen.\"\"\".replace(\"\\n\",\" \").replace(\"\\t\",\" \")"
   ]
  },
  {
   "cell_type": "code",
   "execution_count": 9,
   "metadata": {},
   "outputs": [
    {
     "name": "stdout",
     "output_type": "stream",
     "text": [
      "First Name : n\n",
      "Last Name: j\n",
      "Age: 12\n",
      "Date of birth(just year): 1222\n"
     ]
    }
   ],
   "source": [
    "FirstName =str(input(\"First Name : \"))\n",
    "LastName=str(input(\"Last Name: \"))\n",
    "Age =int(input(\"Age: \"))\n",
    "DateOfbirth=int(input(\"Date of birth(just year): \"))"
   ]
  },
  {
   "cell_type": "code",
   "execution_count": 10,
   "metadata": {},
   "outputs": [
    {
     "name": "stdout",
     "output_type": "stream",
     "text": [
      "You can't go out because it's too dangerous.\n"
     ]
    }
   ],
   "source": [
    "if Age<18:\n",
    " print(\"You can't go out because it's too dangerous.\")\n",
    "if Age>18:\n",
    " print(\"You can go out to the street.\")"
   ]
  },
  {
   "cell_type": "code",
   "execution_count": 13,
   "metadata": {},
   "outputs": [],
   "source": [
    "information =['ali','ayşe','22','2000']"
   ]
  },
  {
   "cell_type": "code",
   "execution_count": 14,
   "metadata": {},
   "outputs": [
    {
     "name": "stdout",
     "output_type": "stream",
     "text": [
      "ali\n",
      "ayşe\n",
      "22\n",
      "2000\n"
     ]
    }
   ],
   "source": [
    "for i in range(len(information)):\n",
    "    print(information[i])"
   ]
  },
  {
   "cell_type": "code",
   "execution_count": null,
   "metadata": {},
   "outputs": [],
   "source": []
  }
 ],
 "metadata": {
  "kernelspec": {
   "display_name": "Python 3",
   "language": "python",
   "name": "python3"
  },
  "language_info": {
   "codemirror_mode": {
    "name": "ipython",
    "version": 3
   },
   "file_extension": ".py",
   "mimetype": "text/x-python",
   "name": "python",
   "nbconvert_exporter": "python",
   "pygments_lexer": "ipython3",
   "version": "3.7.6"
  }
 },
 "nbformat": 4,
 "nbformat_minor": 4
}
