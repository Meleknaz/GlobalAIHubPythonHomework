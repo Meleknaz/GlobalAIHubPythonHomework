{
 "cells": [
  {
   "cell_type": "code",
   "execution_count": 2,
   "metadata": {},
   "outputs": [
    {
     "data": {
      "text/plain": [
       "'You are free for assignment\\nyou can set the rules yourself. There is only thing expected of you.\\nwhen entering the game, The user\\'s name and for example \"wecome John\" should be pressed to the screen.\\nWhen the game is over, exit the game. So let the game end.'"
      ]
     },
     "execution_count": 2,
     "metadata": {},
     "output_type": "execute_result"
    }
   ],
   "source": [
    "\"\"\"You are free for assignment\n",
    "you can set the rules yourself. There is only thing expected of you.\n",
    "when entering the game, The user's name and for example \"wecome John\" should be pressed to the screen.\n",
    "When the game is over, exit the game. So let the game end.\"\"\""
   ]
  },
  {
   "cell_type": "code",
   "execution_count": null,
   "metadata": {},
   "outputs": [],
   "source": [
    "YourName =str(input(\"Please Enter Your Name For Start The Game : \"))"
   ]
  },
  {
   "cell_type": "code",
   "execution_count": null,
   "metadata": {},
   "outputs": [],
   "source": [
    "NumberİnMyMind=8\n",
    "print(\"Welcom {}\" .format(YourName))\n",
    "print(\"Know the number I keep in mind from 1 to 10 and win the game!\")\n",
    "İnput =int(input(\"What's the number on my mind?: \"))\n",
    "if NumberİnMyMind == İnput:\n",
    "    print(\"Congratulations {}\".format(YourName))\n",
    "else:\n",
    "    print(\"Try again\")"
   ]
  },
  {
   "cell_type": "code",
   "execution_count": null,
   "metadata": {},
   "outputs": [],
   "source": []
  }
 ],
 "metadata": {
  "kernelspec": {
   "display_name": "Python 3",
   "language": "python",
   "name": "python3"
  },
  "language_info": {
   "codemirror_mode": {
    "name": "ipython",
    "version": 3
   },
   "file_extension": ".py",
   "mimetype": "text/x-python",
   "name": "python",
   "nbconvert_exporter": "python",
   "pygments_lexer": "ipython3",
   "version": "3.7.6"
  }
 },
 "nbformat": 4,
 "nbformat_minor": 4
}
